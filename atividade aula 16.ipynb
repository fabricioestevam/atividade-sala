{
 "cells": [
  {
   "cell_type": "code",
   "execution_count": 5,
   "metadata": {},
   "outputs": [
    {
     "name": "stdout",
     "output_type": "stream",
     "text": [
      "O seu salário novo será R$ 5600.0 e o seu aumento foi de R$ 1600.0\n"
     ]
    }
   ],
   "source": [
    "salarioAntigo=float(input(\"Qual é o seu salario?\"))\n",
    "cargo=int(input(\"Digite o codigo do seu cargo\"))\n",
    "gerente=101\n",
    "engenheiro=102\n",
    "tecnico=103\n",
    "salarioAtualDoGerente= salarioAntigo+(salarioAntigo*10/100)\n",
    "salarioAtualDoEngenheiro= salarioAntigo+(salarioAntigo*20/100)\n",
    "salarioAtualTecnico= salarioAntigo+(salarioAntigo*30/100)\n",
    "salarioAtualNaoIndentificado= salarioAntigo+(salarioAntigo*40/100)\n",
    "if cargo== gerente:\n",
    "   print(\"O seu salário novo será R$\",salarioAtualDoGerente, \"e o seu aumento foi de R$\",salarioAtualDoGerente-salarioAntigo)\n",
    "elif cargo== engenheiro:\n",
    "   print(\"O seu salário novo será R$\", salarioAtualDoEngenheiro, \"e o seu aumento foi de R$\",salarioAtualDoEngenheiro-salarioAntigo)\n",
    "elif cargo==tecnico:\n",
    "   print(\"O seu salário novo será R$\", salarioAtualTecnico,\"e o seu aumento foi de R$\", salarioAtualTecnico-salarioAntigo )\n",
    "else:\n",
    "   print(\"O seu salário novo será R$\",salarioAtualNaoIndentificado,\"e o seu aumento foi de R$\", salarioAtualNaoIndentificado-salarioAntigo)\n",
    "   "
   ]
  }
 ],
 "metadata": {
  "kernelspec": {
   "display_name": "Python 3",
   "language": "python",
   "name": "python3"
  },
  "language_info": {
   "codemirror_mode": {
    "name": "ipython",
    "version": 3
   },
   "file_extension": ".py",
   "mimetype": "text/x-python",
   "name": "python",
   "nbconvert_exporter": "python",
   "pygments_lexer": "ipython3",
   "version": "3.11.9"
  }
 },
 "nbformat": 4,
