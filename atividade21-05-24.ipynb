{
 "cells": [
  {
   "cell_type": "code",
   "execution_count": 18,
   "metadata": {},
   "outputs": [
    {
     "name": "stdout",
     "output_type": "stream",
     "text": [
      "5 patinhos foram passear, além da montanha para brincar, a mamãe gritou: Quá, quá, quá, quá, Mas só 4 patinhos voltaram de lá\n",
      "4 patinhos foram passear, além da montanha para brincar, a mamãe gritou: Quá, quá, quá, quá, Mas só 3 patinhos voltaram de lá\n",
      "3 patinhos foram passear, além da montanha para brincar, a mamãe gritou: Quá, quá, quá, quá, Mas só 2 patinhos voltaram de lá\n",
      "2 patinhos foram passear, além da montanha para brincar, a mamãe gritou: Quá, quá, quá, quá, Mas só 1 patinhos voltaram de lá\n",
      "1 patinhos foram passear, além da montanha para brincar, a mamãe gritou: Quá, quá, quá, quá, Mas só 0 patinhos voltaram de lá\n"
     ]
    }
   ],
   "source": [
    "for n in [5,4,3,2,1,]:\n",
    "    print (n, \"patinhos foram passear, além da montanha para brincar, a mamãe gritou: Quá, quá, quá, quá, Mas só\", n-1, \"patinhos voltaram de lá\")"
   ]
  },
  {
   "cell_type": "code",
   "execution_count": 70,
   "metadata": {},
   "outputs": [
    {
     "name": "stdout",
     "output_type": "stream",
     "text": [
      "Mariana conta 1, Mariana conta 1 é 1 é 1\n",
      "Mariana conta 1, 2\n",
      "Mariana conta 1, 2, 3\n",
      "Mariana conta 1, 2, 3, 4\n",
      "Mariana conta 1, 2, 3, 4, 5\n",
      "Mariana conta 1, 2, 3, 4, 5, 6\n",
      "Mariana conta 1, 2, 3, 4, 5, 6, 7\n",
      "Mariana conta 1, 2, 3, 4, 5, 6, 7, 8\n",
      "Mariana conta 1, 2, 3, 4, 5, 6, 7, 8, 9\n",
      "Mariana conta 1, 2, 3, 4, 5, 6, 7, 8, 9, 10\n"
     ]
    }
   ],
   "source": [
    "for M in [\"Mariana conta 1, Mariana conta 1 é 1 é 1\",\"Mariana conta 1, 2\",\"Mariana conta 1, 2, 3\",\"Mariana conta 1, 2, 3, 4\",\"Mariana conta 1, 2, 3, 4, 5\",\"Mariana conta 1, 2, 3, 4, 5, 6\",\"Mariana conta 1, 2, 3, 4, 5, 6, 7\",\"Mariana conta 1, 2, 3, 4, 5, 6, 7, 8\",\"Mariana conta 1, 2, 3, 4, 5, 6, 7, 8, 9\",\"Mariana conta 1, 2, 3, 4, 5, 6, 7, 8, 9, 10\"]:\n",
    "    print(M)"
   ]
  },
  {
   "cell_type": "code",
   "execution_count": 77,
   "metadata": {},
   "outputs": [
    {
     "name": "stdout",
     "output_type": "stream",
     "text": [
      "Um elefante incomoda muita gente\n",
      "Dois elefantes incomodam incomodam muito mais\n",
      "Três elefantes incomodam muita gente\n",
      "Quatro elefantes incomodam incomodam incomodam incomodam muito mais\n",
      "Cinco elefantes incomodam muita gente\n",
      "Seis elefantes incomodam incomodam incomodam incomodam incomodam incomodam muito mais\n",
      "Sete elefantes incomodam muita gente\n",
      "Oito elefantes incomodam incomodam incomodam incomodam incomodam incomodam incomodam incomodam muito mais\n",
      "Nove elefantes incomodam muita gente\n",
      "Dez elefantes incomodam incomodam incomodam incomodam incomodam incomodam incomodam incomodam incomodam incomodam muito mais \n"
     ]
    }
   ],
   "source": [
    "for E in ['Um elefante incomoda muita gente','Dois elefantes incomodam incomodam muito mais','Três elefantes incomodam muita gente','Quatro elefantes incomodam incomodam incomodam incomodam muito mais','Cinco elefantes incomodam muita gente','Seis elefantes incomodam incomodam incomodam incomodam incomodam incomodam muito mais','Sete elefantes incomodam muita gente','Oito elefantes incomodam incomodam incomodam incomodam incomodam incomodam incomodam incomodam muito mais','Nove elefantes incomodam muita gente','Dez elefantes incomodam incomodam incomodam incomodam incomodam incomodam incomodam incomodam incomodam incomodam muito mais ' ]:\n",
    "        print(E)"
   ]
  }
 ],
 "metadata": {
  "kernelspec": {
   "display_name": "Python 3",
   "language": "python",
   "name": "python3"
  },
  "language_info": {
   "codemirror_mode": {
    "name": "ipython",
    "version": 3
   },
   "file_extension": ".py",
   "mimetype": "text/x-python",
   "name": "python",
   "nbconvert_exporter": "python",
   "pygments_lexer": "ipython3",
   "version": "3.11.9"
  }
 },
 "nbformat": 4,
 "nbformat_minor": 2
}
