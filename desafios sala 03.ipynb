{
 "cells": [
  {
   "cell_type": "code",
   "execution_count": 5,
   "metadata": {},
   "outputs": [
    {
     "name": "stdout",
     "output_type": "stream",
     "text": [
      "seu numero escolhido foi: 2\n"
     ]
    }
   ],
   "source": [
    "numero=int(input(\"digite um número:\"))\n",
    "print(\"seu numero escolhido foi:\", numero)"
   ]
  },
  {
   "cell_type": "code",
   "execution_count": 9,
   "metadata": {},
   "outputs": [],
   "source": [
    "numeroA=int(input(\"Digite um número\"))\n",
    "numeroB=int(input(\"Digite um número\"))"
   ]
  },
  {
   "cell_type": "code",
   "execution_count": 11,
   "metadata": {},
   "outputs": [],
   "source": [
    "soma= numeroA + numeroB"
   ]
  },
  {
   "cell_type": "code",
   "execution_count": 12,
   "metadata": {},
   "outputs": [
    {
     "name": "stdout",
     "output_type": "stream",
     "text": [
      "100\n"
     ]
    }
   ],
   "source": [
    "print(soma)"
   ]
  },
  {
   "cell_type": "code",
   "execution_count": 43,
   "metadata": {},
   "outputs": [],
   "source": [
    "nota1=float(input(\"nota1\"))\n",
    "nota2=float(input(\"nota2\"))\n",
    "nota3=float(input(\"nota3\"))"
   ]
  },
  {
   "cell_type": "code",
   "execution_count": 44,
   "metadata": {},
   "outputs": [
    {
     "name": "stdout",
     "output_type": "stream",
     "text": [
      "você vai para a recuperação\n"
     ]
    }
   ],
   "source": [
    "media= (nota1 + nota2 + nota3)/3\n",
    "if (media) >= 7:\n",
    "            (print(\"você passou de ano!!\"))\n",
    "\n",
    "else: print(\"você vai para a recuperação\")"
   ]
  },
  {
   "cell_type": "code",
   "execution_count": 45,
   "metadata": {},
   "outputs": [],
   "source": [
    "horasdeTrabalho= int(input(\"Quantas horas você trabalha por mês?\"))\n",
    "salarioPorHora= int(input(\"Quanto você ganha por hora?\"))"
   ]
  },
  {
   "cell_type": "code",
   "execution_count": 46,
   "metadata": {},
   "outputs": [],
   "source": [
    "salario= horasdeTrabalho * salarioPorHora"
   ]
  },
  {
   "cell_type": "code",
   "execution_count": 53,
   "metadata": {},
   "outputs": [
    {
     "name": "stdout",
     "output_type": "stream",
     "text": [
      "seu salario esse mês foi 2400\n"
     ]
    }
   ],
   "source": [
    "print(\"seu salario esse mês foi\", salario)"
   ]
  },
  {
   "cell_type": "code",
   "execution_count": 55,
   "metadata": {},
   "outputs": [],
   "source": [
    "\n",
    "peso_pesca = float(input(\"Quanto em kg foi pescado?\"))"
   ]
  },
  {
   "cell_type": "code",
   "execution_count": 57,
   "metadata": {},
   "outputs": [],
   "source": [
    "excedente = peso_pesca - 50"
   ]
  },
  {
   "cell_type": "code",
   "execution_count": 58,
   "metadata": {},
   "outputs": [
    {
     "name": "stdout",
     "output_type": "stream",
     "text": [
      "A multa a ser paga é: R$ 40.0\n",
      "STATUS: Aguardando pagamento.\n"
     ]
    }
   ],
   "source": [
    "if excedente > 0:\n",
    "    multa = excedente * 4\n",
    "    print(\"A multa a ser paga é: R$\", multa)\n",
    "    print(\"STATUS: Aguardando pagamento.\")\n",
    " \n",
    "else:\n",
    "    print(\"Pescaria aprovada, sem multas.\")"
   ]
  }
 ],
 "metadata": {
  "kernelspec": {
   "display_name": "Python 3",
   "language": "python",
   "name": "python3"
  },
  "language_info": {
   "codemirror_mode": {
    "name": "ipython",
    "version": 3
   },
   "file_extension": ".py",
   "mimetype": "text/x-python",
   "name": "python",
   "nbconvert_exporter": "python",
   "pygments_lexer": "ipython3",
   "version": "3.11.4"
  }
 },
 "nbformat": 4,
 "nbformat_minor": 2
}
